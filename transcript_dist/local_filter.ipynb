{
 "cells": [
  {
   "cell_type": "code",
   "execution_count": 3,
   "metadata": {},
   "outputs": [
    {
     "ename": "NameError",
     "evalue": "name 'subtitle_words' is not defined",
     "output_type": "error",
     "traceback": [
      "\u001b[0;31m---------------------------------------------------------------------------\u001b[0m",
      "\u001b[0;31mNameError\u001b[0m                                 Traceback (most recent call last)",
      "\u001b[1;32m/Users/jackgengqc/code/appteam/academy/VideoQA-Generation/transcript_dist/local_filter.ipynb Cell 1\u001b[0m line \u001b[0;36m<cell line: 11>\u001b[0;34m()\u001b[0m\n\u001b[1;32m     <a href='vscode-notebook-cell:/Users/jackgengqc/code/appteam/academy/VideoQA-Generation/transcript_dist/local_filter.ipynb#W0sZmlsZQ%3D%3D?line=27'>28</a>\u001b[0m time_deltas \u001b[39m=\u001b[39m []\n\u001b[1;32m     <a href='vscode-notebook-cell:/Users/jackgengqc/code/appteam/academy/VideoQA-Generation/transcript_dist/local_filter.ipynb#W0sZmlsZQ%3D%3D?line=28'>29</a>\u001b[0m skip \u001b[39m=\u001b[39m \u001b[39mFalse\u001b[39;00m\n\u001b[0;32m---> <a href='vscode-notebook-cell:/Users/jackgengqc/code/appteam/academy/VideoQA-Generation/transcript_dist/local_filter.ipynb#W0sZmlsZQ%3D%3D?line=29'>30</a>\u001b[0m \u001b[39mfor\u001b[39;00m i \u001b[39min\u001b[39;00m \u001b[39mrange\u001b[39m(\u001b[39mlen\u001b[39m(subtitle_words) \u001b[39m-\u001b[39m \u001b[39m1\u001b[39m):\n\u001b[1;32m     <a href='vscode-notebook-cell:/Users/jackgengqc/code/appteam/academy/VideoQA-Generation/transcript_dist/local_filter.ipynb#W0sZmlsZQ%3D%3D?line=30'>31</a>\u001b[0m     \u001b[39mif\u001b[39;00m skip:\n\u001b[1;32m     <a href='vscode-notebook-cell:/Users/jackgengqc/code/appteam/academy/VideoQA-Generation/transcript_dist/local_filter.ipynb#W0sZmlsZQ%3D%3D?line=31'>32</a>\u001b[0m         skip \u001b[39m=\u001b[39m \u001b[39mFalse\u001b[39;00m\n",
      "\u001b[0;31mNameError\u001b[0m: name 'subtitle_words' is not defined"
     ]
    }
   ],
   "source": [
    "import json\n",
    "import csv\n",
    "import numpy as np\n",
    "\n",
    "total_rows_added = 0\n",
    "\n",
    "input_file_name = \"/Users/jackgengqc/Desktop/yttemporal1b_train_0000of1024.jsonl\"\n",
    "output_csv_name = \"./100_video_ids.csv\"\n",
    "\n",
    "# Open the input file for reading and the CSV file for writing\n",
    "with open(input_file_name, 'r') as input_file, open(output_csv_name, 'w', newline='') as output_csv:\n",
    "    csv_writer = csv.writer(output_csv)\n",
    "    csv_writer.writerow(['id'])  # Write header\n",
    "    \n",
    "\n",
    "    # Process each line in the JSONL file\n",
    "    for line in input_file:\n",
    "        data = json.loads(line)\n",
    "\n",
    "        subtitles_t_start = data[\"subtitles_t_start\"]\n",
    "        subtitles_t_end = data[\"subtitles_t_end\"]\n",
    "        duration = data[\"duration\"]\n",
    "        youtube_id = data['id']\n",
    "        subtitles_words = data[\"subtitles_words\"]\n",
    "\n",
    "\n",
    "        # Calculate time deltas between consecutive words but skip \"[Music]\"\n",
    "        time_deltas = []\n",
    "        skip = False\n",
    "        for i in range(len(subtitles_words) - 1):\n",
    "            if skip:\n",
    "                skip = False\n",
    "                continue\n",
    "            if subtitles_words[i+1] == \"[Music]\":\n",
    "                if i+2 < len(subtitles_t_start):  # Check if there's a word after [Music]\n",
    "                    time_deltas.append(subtitles_t_start[i+2] - subtitles_t_end[i])\n",
    "                    skip_next = True\n",
    "            else:\n",
    "                time_deltas.append(subtitles_t_start[i+1] - subtitles_t_end[i])\n",
    "\n",
    "        # Calculate the mean of the time deltas\n",
    "        mean_time_delta = np.mean(time_deltas)\n",
    "\n",
    "        if mean_time_delta > 0.001665:\n",
    "            continue\n",
    "\n",
    "        if duration < 420:\n",
    "            continue\n",
    "\n",
    "        total_rows_added += 1\n",
    "\n",
    "        # Write the qualified video ID to the CSV file\n",
    "        csv_writer.writerow([youtube_id])\n",
    "\n",
    "        if total_rows_added == 100:\n",
    "            break\n",
    "\n",
    "    print(f\"Total rows added: {total_rows_added}\")\n",
    "\n",
    "print(\"File processed.\")\n"
   ]
  },
  {
   "cell_type": "markdown",
   "metadata": {},
   "source": []
  }
 ],
 "metadata": {
  "kernelspec": {
   "display_name": "Python 3",
   "language": "python",
   "name": "python3"
  },
  "language_info": {
   "codemirror_mode": {
    "name": "ipython",
    "version": 3
   },
   "file_extension": ".py",
   "mimetype": "text/x-python",
   "name": "python",
   "nbconvert_exporter": "python",
   "pygments_lexer": "ipython3",
   "version": "3.10.6"
  },
  "orig_nbformat": 4
 },
 "nbformat": 4,
 "nbformat_minor": 2
}
