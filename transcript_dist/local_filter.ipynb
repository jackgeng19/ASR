{
 "cells": [
  {
   "cell_type": "code",
   "execution_count": 2,
   "metadata": {},
   "outputs": [
    {
     "name": "stdout",
     "output_type": "stream",
     "text": [
      "Total rows added: 100\n",
      "File processed.\n"
     ]
    }
   ],
   "source": [
    "import json\n",
    "import csv\n",
    "import numpy as np\n",
    "\n",
    "total_rows_added = 0\n",
    "\n",
    "input_file_name = \"/Users/jackgengqc/Desktop/yttemporal1b_train_0000of1024.jsonl\"\n",
    "output_csv_name = \"./100_video_ids.csv\"\n",
    "\n",
    "# Open the input file for reading and the CSV file for writing\n",
    "with open(input_file_name, 'r') as input_file, open(output_csv_name, 'w', newline='') as output_csv:\n",
    "    csv_writer = csv.writer(output_csv)\n",
    "    csv_writer.writerow(['id'])  # Write header\n",
    "\n",
    "    # Process each line in the JSONL file\n",
    "    for line in input_file:\n",
    "        data = json.loads(line)\n",
    "\n",
    "        subtitles_t_start = data[\"subtitles_t_start\"]\n",
    "        subtitles_t_end = data[\"subtitles_t_end\"]\n",
    "        duration = data[\"duration\"]\n",
    "        youtube_id = data['id']\n",
    "\n",
    "        # Calculate time deltas between consecutive words\n",
    "        time_deltas = [start - end for start, end in zip(subtitles_t_start[1:], subtitles_t_end[:-1])]\n",
    "\n",
    "        # Calculate the mean of the time deltas\n",
    "        mean_time_delta = np.mean(time_deltas)\n",
    "\n",
    "        if mean_time_delta > 0.001665:\n",
    "            continue\n",
    "\n",
    "        if duration < 420:\n",
    "            continue\n",
    "\n",
    "        total_rows_added += 1\n",
    "\n",
    "        # Write the qualified video ID to the CSV file\n",
    "        csv_writer.writerow([youtube_id])\n",
    "\n",
    "        if total_rows_added == 100:\n",
    "            break\n",
    "\n",
    "    print(f\"Total rows added: {total_rows_added}\")\n",
    "\n",
    "print(\"File processed.\")\n"
   ]
  }
 ],
 "metadata": {
  "kernelspec": {
   "display_name": "Python 3",
   "language": "python",
   "name": "python3"
  },
  "language_info": {
   "codemirror_mode": {
    "name": "ipython",
    "version": 3
   },
   "file_extension": ".py",
   "mimetype": "text/x-python",
   "name": "python",
   "nbconvert_exporter": "python",
   "pygments_lexer": "ipython3",
   "version": "3.10.6"
  },
  "orig_nbformat": 4
 },
 "nbformat": 4,
 "nbformat_minor": 2
}
