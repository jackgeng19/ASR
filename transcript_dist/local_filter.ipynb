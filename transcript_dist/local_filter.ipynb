{
 "cells": [
  {
   "cell_type": "code",
   "execution_count": 2,
   "metadata": {},
   "outputs": [
    {
     "name": "stdout",
     "output_type": "stream",
     "text": [
      "Total rows added: 1148\n",
      "File processed.\n"
     ]
    }
   ],
   "source": [
    "import json\n",
    "import numpy as np\n",
    "\n",
    "total_rows_added = 0\n",
    "\n",
    "input_file_name = \"/Users/jackgengqc/Downloads/metadata.json\"\n",
    "output_file_name = \"./filtered_metadata.json\"\n",
    "\n",
    "# Open the input file for reading and the output file for writing\n",
    "with open(input_file_name, 'r') as input_file, open(output_file_name, 'w') as output_file:\n",
    "    # Process each line in the JSONL file\n",
    "    for line in input_file:\n",
    "        data = json.loads(line)\n",
    "        duration = data[\"duration\"]\n",
    "\n",
    "        if duration < 600:\n",
    "            continue\n",
    "\n",
    "        subtitles_t_start = data[\"subtitles_t_start\"]\n",
    "        subtitles_t_end = data[\"subtitles_t_end\"]\n",
    "\n",
    "        # Calculate time deltas between consecutive words\n",
    "        time_deltas = [start - end for start, end in zip(subtitles_t_start[1:], subtitles_t_end[:-1])]\n",
    "\n",
    "        # Calculate the mean of the time deltas\n",
    "        mean_time_delta = np.mean(time_deltas)\n",
    "\n",
    "        if mean_time_delta > 0.001665:\n",
    "            continue\n",
    "\n",
    "        total_rows_added += 1\n",
    "\n",
    "        # Write the qualified video data to the new JSONL file\n",
    "        output_file.write(json.dumps(data) + '\\n')\n",
    "\n",
    "    print(f\"Total rows added: {total_rows_added}\")\n",
    "\n",
    "print(\"File processed.\")\n"
   ]
  }
 ],
 "metadata": {
  "kernelspec": {
   "display_name": "Python 3",
   "language": "python",
   "name": "python3"
  },
  "language_info": {
   "codemirror_mode": {
    "name": "ipython",
    "version": 3
   },
   "file_extension": ".py",
   "mimetype": "text/x-python",
   "name": "python",
   "nbconvert_exporter": "python",
   "pygments_lexer": "ipython3",
   "version": "3.10.6"
  },
  "orig_nbformat": 4
 },
 "nbformat": 4,
 "nbformat_minor": 2
}
