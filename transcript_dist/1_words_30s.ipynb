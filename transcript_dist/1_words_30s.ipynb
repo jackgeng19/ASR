{
 "cells": [
  {
   "cell_type": "code",
   "execution_count": 2,
   "metadata": {},
   "outputs": [],
   "source": [
    "import csv\n",
    "import json\n",
    "import gzip\n",
    "import shutil\n",
    "import os\n",
    "import numpy as np"
   ]
  },
  {
   "cell_type": "code",
   "execution_count": 6,
   "metadata": {},
   "outputs": [],
   "source": [
    "# Build the input file name\n",
    "file_number_str = \"0000\"\n",
    "input_file_name = f\"./yttemporal1b_train_{file_number_str}of1024.jsonl.gz\"\n",
    "\n",
    "# Build the temporary unzipped file name\n",
    "unzipped_file_name = f\"./yttemporal1b_train_{file_number_str}of1024.jsonl\"\n",
    "\n",
    "# Extract the JSONL file from the gzip file\n",
    "with gzip.open(input_file_name, 'rb') as gz_file:\n",
    "    with open(unzipped_file_name, 'wb') as json_file:\n",
    "        shutil.copyfileobj(gz_file, json_file)\n",
    "\n",
    "# Open the JSONL file for reading\n",
    "with open(unzipped_file_name, 'r') as json_file:\n",
    "    # Build the output CSV file name\n",
    "    output_file_name = f\"./{file_number_str}.csv\"\n",
    "\n",
    "    # Open the CSV file for writing\n",
    "    with open(output_file_name, 'w', newline='') as csv_file:\n",
    "        writer = csv.writer(csv_file)\n",
    "\n",
    "        # Write the header row in the CSV file\n",
    "        writer.writerow(['URL', 'Duration(second)','Standard Deviation'])\n",
    "\n",
    "        # Process each line in the JSONL file\n",
    "        for line in json_file:\n",
    "            data = json.loads(line)\n",
    "            link = data[\"webpage_url\"]\n",
    "            duration = data[\"duration\"]\n",
    "\n",
    "            words_per_30s = data[\"_words_per_30s\"]\n",
    "            # Skip videos with duration < 300 seconds\n",
    "            if len (words_per_30s) < 20 or duration < 600:\n",
    "                continue\n",
    "            std_deviation = np.std(words_per_30s)\n",
    "\n",
    "            if std_deviation >= 20:\n",
    "                continue\n",
    "\n",
    "            # Write the data row in the CSV file\n",
    "            writer.writerow([link, duration, std_deviation])\n",
    "os.remove(unzipped_file_name)\n",
    "\n"
   ]
  }
 ],
 "metadata": {
  "kernelspec": {
   "display_name": "Python 3",
   "language": "python",
   "name": "python3"
  },
  "language_info": {
   "codemirror_mode": {
    "name": "ipython",
    "version": 3
   },
   "file_extension": ".py",
   "mimetype": "text/x-python",
   "name": "python",
   "nbconvert_exporter": "python",
   "pygments_lexer": "ipython3",
   "version": "3.10.6"
  },
  "orig_nbformat": 4
 },
 "nbformat": 4,
 "nbformat_minor": 2
}
