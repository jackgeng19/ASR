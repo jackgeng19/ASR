{
 "cells": [
  {
   "cell_type": "markdown",
   "metadata": {},
   "source": [
    "I will rate the clarity of transcripts tell the storylines' structures out of 10 as Inspecting videos >=10 mins in category:\n",
    "Autos & Vehicles: Auto videos are basically two categories: a car review and maintenance/assembly instructions. For car review videos, transcripts do a good job of clearly conveying themes and topics of reviews. The clarity might not be as good for the maintenance video as the previous one. The illustrators rely on visual aids more to give information but all the videos I watched give necessary generative narrations on each step. Overall, 8 out of 10.\n",
    "Comedy: As expected, instead of getting the storyline of a comedy video thru a transcript, people need to rely more on the reaction of YouTubers and other audio aids to be entertained. I found that videos that give reviews of products and Vlogs are also listed as \"comedy\", which those videos' transcript usually gives a clearer view. So there are variations in the comedy video transcript. But, in common sense, maybe it is because comedy videos longer than 10 mins are less \"funny\" than shorter comedy videos so they need more transcripts to deliver information. I will give it 6 out of 10.\n",
    "Film & Animation: The videos in this category have clear beginning, middle, and finish points. The contents of transcripts follow a logical sequence of their topics since most videos in this category are instructional videos where the YouTubers sit in front of cameras and talk and videos like a vlog which clearly convey information at the moment by transcripts. The transcripts are also well-structured and engaging. Clarity 9 out of 10 (I gave one point deduction because there is a kind of video that a person gives his/her watching reaction to films so there is less info to gather from transcripts like that).\n",
    "Music: While certain music videos like song analysis demonstrate clear themes, others, such as performance and concert recordings, might struggle to capture the full info only thru texts. Behind-the-scenes and documentary-style videos generally offer well-structured insights into the creative process, but some small emotions may be better experienced through the audio. Overall, the Music category has diverse video content, 6.5 out of 10."
   ]
  }
 ],
 "metadata": {
  "language_info": {
   "name": "python"
  },
  "orig_nbformat": 4
 },
 "nbformat": 4,
 "nbformat_minor": 2
}
